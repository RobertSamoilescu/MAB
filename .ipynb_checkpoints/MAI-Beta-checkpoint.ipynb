{
 "cells": [
  {
   "cell_type": "code",
   "execution_count": 4,
   "id": "0eb368e2",
   "metadata": {},
   "outputs": [
    {
     "name": "stdout",
     "output_type": "stream",
     "text": [
      "The autoreload extension is already loaded. To reload it, use:\n",
      "  %reload_ext autoreload\n"
     ]
    }
   ],
   "source": [
    "import numpy as np\n",
    "from tqdm import tqdm\n",
    "\n",
    "from src.distributions import Beta\n",
    "from src.mai.top1.naive import Naive\n",
    "from src.mai.top1.succesive_elimination import SuccesiveElimination\n",
    "\n",
    "%load_ext autoreload\n",
    "%autoreload 2"
   ]
  },
  {
   "cell_type": "code",
   "execution_count": 3,
   "id": "28f0022e",
   "metadata": {},
   "outputs": [],
   "source": [
    "def test_calibration(alg):\n",
    "    best_arm = np.argmax(means)\n",
    "    returned_arm = []\n",
    "    \n",
    "    for i in tqdm(range(100)):\n",
    "        returned_arm.append(alg.play())\n",
    "    \n",
    "    returned_arm = np.array(returned_arm)\n",
    "    return np.mean(means[returned_arm] > means[best_arm] - eps), returned_arm"
   ]
  },
  {
   "cell_type": "code",
   "execution_count": 33,
   "id": "271afc71",
   "metadata": {},
   "outputs": [],
   "source": [
    "arms = [\n",
    "    Beta(3, 4),\n",
    "    Beta(2, 2)\n",
    "]\n",
    "\n",
    "eps = 0.1\n",
    "delta = 0.15"
   ]
  },
  {
   "cell_type": "code",
   "execution_count": 34,
   "id": "59dccbb5",
   "metadata": {},
   "outputs": [
    {
     "name": "stderr",
     "output_type": "stream",
     "text": [
      "100%|██████████| 100/100 [01:16<00:00,  1.31it/s]"
     ]
    },
    {
     "name": "stdout",
     "output_type": "stream",
     "text": [
      "1.0\n"
     ]
    },
    {
     "name": "stderr",
     "output_type": "stream",
     "text": [
      "\n"
     ]
    }
   ],
   "source": [
    "# test naive algorithm\n",
    "naive = Naive(arms=arms, eps=eps, delta=delta)\n",
    "mean, returned_arm = test_calibration(naive)\n",
    "print(mean)"
   ]
  },
  {
   "cell_type": "code",
   "execution_count": 35,
   "id": "9aa5ea4b",
   "metadata": {},
   "outputs": [
    {
     "name": "stderr",
     "output_type": "stream",
     "text": [
      "100%|██████████| 100/100 [00:30<00:00,  3.27it/s]"
     ]
    },
    {
     "name": "stdout",
     "output_type": "stream",
     "text": [
      "1.0\n"
     ]
    },
    {
     "name": "stderr",
     "output_type": "stream",
     "text": [
      "\n"
     ]
    }
   ],
   "source": [
    "succesive = SuccesiveElimination(arms=arms, eps=eps, delta=delta, c=4)\n",
    "mean, returned_arm = test_calibration(succesive)\n",
    "print(mean)"
   ]
  },
  {
   "cell_type": "code",
   "execution_count": null,
   "id": "f698866f",
   "metadata": {},
   "outputs": [],
   "source": []
  }
 ],
 "metadata": {
  "kernelspec": {
   "display_name": "alibi",
   "language": "python",
   "name": "alibi"
  },
  "language_info": {
   "codemirror_mode": {
    "name": "ipython",
    "version": 3
   },
   "file_extension": ".py",
   "mimetype": "text/x-python",
   "name": "python",
   "nbconvert_exporter": "python",
   "pygments_lexer": "ipython3",
   "version": "3.8.13"
  }
 },
 "nbformat": 4,
 "nbformat_minor": 5
}
