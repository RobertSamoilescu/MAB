{
 "cells": [
  {
   "cell_type": "code",
   "execution_count": 1,
   "id": "c91adddb",
   "metadata": {},
   "outputs": [],
   "source": [
    "import numpy as np\n",
    "from sklearn.tree import DecisionTreeClassifier\n",
    "from sklearn.datasets import make_classification\n",
    "from sklearn.model_selection import train_test_split\n",
    "\n",
    "\n",
    "import shap\n",
    "from alibi.explainers import KernelShap\n",
    "from alibi.datasets import fetch_adult\n",
    "\n",
    "from src.mai.topk.direct import Direct\n",
    "from src.mai.topk.halving import Halving\n",
    "from src.mai.topk.lucb import LUCB\n",
    "from src.mai.topk.kl_lucb import KL_LUCB\n",
    "from src.distributions import Shap\n",
    "\n",
    "\n",
    "%load_ext autoreload\n",
    "%autoreload 2"
   ]
  },
  {
   "cell_type": "markdown",
   "id": "d31eb5d6",
   "metadata": {},
   "source": [
    "## Constants"
   ]
  },
  {
   "cell_type": "code",
   "execution_count": 2,
   "id": "32b7cdd8",
   "metadata": {},
   "outputs": [],
   "source": [
    "m = 5\n",
    "eps = 0.1\n",
    "delta = 0.1"
   ]
  },
  {
   "cell_type": "markdown",
   "id": "88a00c05",
   "metadata": {},
   "source": [
    "## Dataset"
   ]
  },
  {
   "cell_type": "code",
   "execution_count": 3,
   "id": "359292c9",
   "metadata": {},
   "outputs": [],
   "source": [
    "if True:\n",
    "    n_samples = 10000\n",
    "    n_features = 150\n",
    "    n_informative = 100\n",
    "    n_redundant = 50\n",
    "    n_clusters_per_class=10\n",
    "    n_classes = 2\n",
    "    \n",
    "    X, y = make_classification(n_samples=n_samples, \n",
    "                               n_features=n_features, \n",
    "                               n_informative=n_informative, \n",
    "                               n_redundant=n_redundant,\n",
    "                               n_classes=n_classes,\n",
    "                               hypercube=False,\n",
    "                               n_clusters_per_class=n_clusters_per_class)\n",
    "    X_train, X_test, y_train, y_test = train_test_split(X, y, test_size=0.2)\n",
    "else:\n",
    "    # adult census dataset\n",
    "    data = fetch_adult()\n",
    "    X, y = data['data'], data['target']\n",
    "    X_train, X_test, y_train, y_test = train_test_split(X, y, test_size=0.2)\n",
    "    n_features = X.shape[-1]"
   ]
  },
  {
   "cell_type": "markdown",
   "id": "531a95a0",
   "metadata": {},
   "source": [
    "## Train model"
   ]
  },
  {
   "cell_type": "code",
   "execution_count": 4,
   "id": "abf2dd35",
   "metadata": {},
   "outputs": [
    {
     "data": {
      "text/plain": [
       "(0.9681357493857494, 0.8252725318593582)"
      ]
     },
     "execution_count": 4,
     "metadata": {},
     "output_type": "execute_result"
    }
   ],
   "source": [
    "clf = DecisionTreeClassifier()\n",
    "clf.fit(X_train, y_train)\n",
    "clf.score(X_train, y_train), clf.score(X_test, y_test)"
   ]
  },
  {
   "cell_type": "code",
   "execution_count": 5,
   "id": "193cf0d3",
   "metadata": {},
   "outputs": [
    {
     "data": {
      "text/plain": [
       "(0, 1)"
      ]
     },
     "execution_count": 5,
     "metadata": {},
     "output_type": "execute_result"
    }
   ],
   "source": [
    "max_val = np.max(clf.predict(X_train))\n",
    "min_val = np.min(clf.predict(X_train))\n",
    "min_val, max_val"
   ]
  },
  {
   "cell_type": "markdown",
   "id": "0f567a93",
   "metadata": {},
   "source": [
    "## Explain prediction"
   ]
  },
  {
   "cell_type": "code",
   "execution_count": 6,
   "id": "1a5f6b4f",
   "metadata": {},
   "outputs": [],
   "source": [
    "X = X_test[:1]\n",
    "baseline = X_train[:10]"
   ]
  },
  {
   "cell_type": "markdown",
   "id": "5b33d993",
   "metadata": {},
   "source": [
    "### KernelShap"
   ]
  },
  {
   "cell_type": "code",
   "execution_count": 7,
   "id": "d97c6359",
   "metadata": {},
   "outputs": [],
   "source": [
    "def predict_fn(x):\n",
    "    y = np.clip(clf.predict_proba(x), 0.01, 0.99)\n",
    "    return y / np.sum(y, axis=-1, keepdims=True)\n",
    "\n",
    "explainer = KernelShap(predictor=predict_fn,\n",
    "                       link='identity',\n",
    "                       task='classification')\n",
    "\n",
    "explainer = explainer.fit(baseline)"
   ]
  },
  {
   "cell_type": "code",
   "execution_count": 8,
   "id": "9fed91e0",
   "metadata": {},
   "outputs": [
    {
     "data": {
      "application/vnd.jupyter.widget-view+json": {
       "model_id": "7bf8ca185fc740a4827be48b32c24531",
       "version_major": 2,
       "version_minor": 0
      },
      "text/plain": [
       "  0%|          | 0/1 [00:00<?, ?it/s]"
      ]
     },
     "metadata": {},
     "output_type": "display_data"
    },
    {
     "name": "stdout",
     "output_type": "stream",
     "text": [
      "#samples: 2^5; indices=[1 4 5 6 7]\n"
     ]
    },
    {
     "data": {
      "application/vnd.jupyter.widget-view+json": {
       "model_id": "b6bc9cf0caa74c8da648266dd9543236",
       "version_major": 2,
       "version_minor": 0
      },
      "text/plain": [
       "  0%|          | 0/1 [00:00<?, ?it/s]"
      ]
     },
     "metadata": {},
     "output_type": "display_data"
    },
    {
     "name": "stdout",
     "output_type": "stream",
     "text": [
      "#samples: 2^10; indices=[1 6 7 8 9]\n"
     ]
    },
    {
     "data": {
      "application/vnd.jupyter.widget-view+json": {
       "model_id": "d335d468e6404168908f41e8e1353934",
       "version_major": 2,
       "version_minor": 0
      },
      "text/plain": [
       "  0%|          | 0/1 [00:00<?, ?it/s]"
      ]
     },
     "metadata": {},
     "output_type": "display_data"
    },
    {
     "name": "stdout",
     "output_type": "stream",
     "text": [
      "#samples: 2^12; indices=[1 5 6 7 9]\n"
     ]
    },
    {
     "data": {
      "application/vnd.jupyter.widget-view+json": {
       "model_id": "cab1afd320ca4a30b2f8a637cdb3d687",
       "version_major": 2,
       "version_minor": 0
      },
      "text/plain": [
       "  0%|          | 0/1 [00:00<?, ?it/s]"
      ]
     },
     "metadata": {},
     "output_type": "display_data"
    },
    {
     "name": "stdout",
     "output_type": "stream",
     "text": [
      "#samples: 2^14; indices=[1 5 6 7 9]\n"
     ]
    },
    {
     "data": {
      "application/vnd.jupyter.widget-view+json": {
       "model_id": "0ca771fb443345b9a7661d7f76a86b44",
       "version_major": 2,
       "version_minor": 0
      },
      "text/plain": [
       "  0%|          | 0/1 [00:00<?, ?it/s]"
      ]
     },
     "metadata": {},
     "output_type": "display_data"
    },
    {
     "name": "stdout",
     "output_type": "stream",
     "text": [
      "#samples: 2^16; indices=[1 5 6 7 9]\n"
     ]
    }
   ],
   "source": [
    "for i in [5, 10, 12, 14, 16]:\n",
    "    exp = explainer.explain(X=X,\n",
    "                            nsamples=2**i,\n",
    "                            l1_reg=False)\n",
    "\n",
    "    indices = np.argsort(exp.shap_values[0][0])[-m:]\n",
    "    vals = exp.shap_values[0][0][indices]\n",
    "    print(f'#samples: 2^{i}; indices={np.sort(indices)}')"
   ]
  },
  {
   "cell_type": "markdown",
   "id": "38f3017b",
   "metadata": {},
   "source": [
    "### MAI"
   ]
  },
  {
   "cell_type": "code",
   "execution_count": 9,
   "id": "385f3a5d",
   "metadata": {},
   "outputs": [],
   "source": [
    "simple_predict_fn = lambda x: predict_fn(x)[:, 0]\n",
    "\n",
    "arms = [Shap(feature=i,\n",
    "             X=X,\n",
    "             baseline=baseline,\n",
    "             predictor=simple_predict_fn,\n",
    "             min_val=min_val,\n",
    "             max_val=max_val) for i in range(n_features)]"
   ]
  },
  {
   "cell_type": "code",
   "execution_count": 10,
   "id": "9f978644",
   "metadata": {
    "scrolled": true
   },
   "outputs": [
    {
     "name": "stderr",
     "output_type": "stream",
     "text": [
      "100%|██████████| 12/12 [00:00<00:00, 37.76it/s]\n"
     ]
    },
    {
     "data": {
      "text/plain": [
       "array([1, 5, 6, 7, 9])"
      ]
     },
     "execution_count": 10,
     "metadata": {},
     "output_type": "execute_result"
    }
   ],
   "source": [
    "algo = Direct(arms=arms, m=m, eps=eps, delta=delta)\n",
    "ret_indices = algo.play()\n",
    "np.sort(ret_indices)"
   ]
  },
  {
   "cell_type": "code",
   "execution_count": 11,
   "id": "de1c29d0",
   "metadata": {},
   "outputs": [],
   "source": [
    "# algo = Halving(arms=arms, m=m, eps=eps, delta=delta)\n",
    "# ret_indices = algo.play()\n",
    "# np.sort(ret_indices)"
   ]
  },
  {
   "cell_type": "code",
   "execution_count": 12,
   "id": "f452c523",
   "metadata": {},
   "outputs": [
    {
     "name": "stderr",
     "output_type": "stream",
     "text": [
      "first iteration: 100%|██████████| 12/12 [00:00<00:00, 41.23it/s]\n",
      "5it [00:00, 20.91it/s]\n"
     ]
    },
    {
     "data": {
      "text/plain": [
       "array([5, 6, 7, 8, 9])"
      ]
     },
     "execution_count": 12,
     "metadata": {},
     "output_type": "execute_result"
    }
   ],
   "source": [
    "algo = LUCB(arms=arms, m=m, eps=eps, delta=delta, batch_size=1000)\n",
    "ret_indices = algo.play()\n",
    "np.sort(ret_indices)"
   ]
  },
  {
   "cell_type": "code",
   "execution_count": 16,
   "id": "eeac4e66",
   "metadata": {},
   "outputs": [
    {
     "name": "stderr",
     "output_type": "stream",
     "text": [
      "first iteration: 100%|██████████| 12/12 [00:00<00:00, 43.03it/s]\n",
      "0it [00:00, ?it/s]\n"
     ]
    },
    {
     "data": {
      "text/plain": [
       "array([1, 5, 6, 7, 9])"
      ]
     },
     "execution_count": 16,
     "metadata": {},
     "output_type": "execute_result"
    }
   ],
   "source": [
    "algo = KL_LUCB(arms=arms, m=m, eps=eps, delta=delta, batch_size=1000)\n",
    "ret_indices = algo.play()\n",
    "np.sort(ret_indices)"
   ]
  },
  {
   "cell_type": "code",
   "execution_count": null,
   "id": "1934effe",
   "metadata": {},
   "outputs": [],
   "source": []
  }
 ],
 "metadata": {
  "kernelspec": {
   "display_name": "alibi",
   "language": "python",
   "name": "alibi"
  },
  "language_info": {
   "codemirror_mode": {
    "name": "ipython",
    "version": 3
   },
   "file_extension": ".py",
   "mimetype": "text/x-python",
   "name": "python",
   "nbconvert_exporter": "python",
   "pygments_lexer": "ipython3",
   "version": "3.8.13"
  }
 },
 "nbformat": 4,
 "nbformat_minor": 5
}
