{
 "cells": [
  {
   "cell_type": "code",
   "execution_count": 1,
   "id": "08cc9f57",
   "metadata": {},
   "outputs": [],
   "source": [
    "import numpy as np\n",
    "from tqdm import tqdm\n",
    "\n",
    "from src.distributions import Bernoulli\n",
    "\n",
    "from src.mab.ucb import UCB\n",
    "from src.mab.eps_greedy import EpsGreedy\n",
    "from src.mab.thompson import ThompsonBernoulli\n",
    "from src.mab.kl_ucb import KLUCB\n",
    "\n",
    "\n",
    "%load_ext autoreload\n",
    "%autoreload 2"
   ]
  },
  {
   "cell_type": "code",
   "execution_count": 2,
   "id": "4459622b",
   "metadata": {},
   "outputs": [],
   "source": [
    "arms = [\n",
    "    Bernoulli(0.5),\n",
    "    Bernoulli(0.6),\n",
    "]\n",
    "\n",
    "T = 10000\n",
    "t = 1 + np.arange(T)"
   ]
  },
  {
   "cell_type": "code",
   "execution_count": 3,
   "id": "0e3bc8cb",
   "metadata": {},
   "outputs": [
    {
     "name": "stderr",
     "output_type": "stream",
     "text": [
      "100%|██████████| 10/10 [00:01<00:00,  6.92it/s]\n"
     ]
    }
   ],
   "source": [
    "ucbs = []\n",
    "\n",
    "for i in tqdm(range(10)):\n",
    "    # ucb algorithm\n",
    "    ucb = UCB(c=1, arms=arms)\n",
    "    ucbs.append(ucb.play(T=T))\n",
    "    \n",
    "mean_ucbs = np.mean(ucbs, axis=0)"
   ]
  },
  {
   "cell_type": "code",
   "execution_count": 4,
   "id": "6eb2d6e8",
   "metadata": {},
   "outputs": [
    {
     "name": "stderr",
     "output_type": "stream",
     "text": [
      "100%|██████████| 10/10 [00:00<00:00, 14.23it/s]\n"
     ]
    }
   ],
   "source": [
    "epss = []\n",
    "\n",
    "for i in tqdm(range(10)):\n",
    "    eps_greedy = EpsGreedy(eps=0.1, arms=arms)\n",
    "    epss.append(eps_greedy.play(T=T))\n",
    "    \n",
    "mean_epss = np.mean(epss, axis=0)"
   ]
  },
  {
   "cell_type": "code",
   "execution_count": 5,
   "id": "4ee19ad6",
   "metadata": {},
   "outputs": [
    {
     "name": "stderr",
     "output_type": "stream",
     "text": [
      "100%|██████████| 10/10 [00:02<00:00,  3.41it/s]\n"
     ]
    }
   ],
   "source": [
    "thomps = []\n",
    "\n",
    "for i in tqdm(range(10)):\n",
    "    thomp = ThompsonBernoulli(arms=arms)\n",
    "    thomps.append(thomp.play(T=T))\n",
    "    \n",
    "mean_thompss = np.mean(thomps, axis=0)"
   ]
  },
  {
   "cell_type": "code",
   "execution_count": 6,
   "id": "5ee8b030",
   "metadata": {},
   "outputs": [
    {
     "name": "stderr",
     "output_type": "stream",
     "text": [
      "100%|██████████| 10/10 [01:32<00:00,  9.30s/it]\n"
     ]
    }
   ],
   "source": [
    "klucbs = []\n",
    "\n",
    "for i in tqdm(range(10)):\n",
    "    klucb = KLUCB(c=0, arms=arms)\n",
    "    klucbs.append(klucb.play(T=T))\n",
    "    \n",
    "mean_klucbs = np.mean(klucbs, axis=0)"
   ]
  },
  {
   "cell_type": "code",
   "execution_count": 7,
   "id": "44d95efa",
   "metadata": {},
   "outputs": [
    {
     "data": {
      "text/plain": [
       "<matplotlib.legend.Legend at 0x7fa50bfa6820>"
      ]
     },
     "execution_count": 7,
     "metadata": {},
     "output_type": "execute_result"
    },
    {
     "data": {
      "image/png": "[encoded data removed]",
      "text/plain": [
       "<Figure size 432x288 with 1 Axes>"
      ]
     },
     "metadata": {
      "needs_background": "light"
     },
     "output_type": "display_data"
    }
   ],
   "source": [
    "import matplotlib.pyplot as plt\n",
    "\n",
    "plt.plot(mean_ucbs / t, label='ucb');\n",
    "plt.plot(mean_epss / t, label='eps_greedy')\n",
    "plt.plot(mean_thompss / t, label='thompson')\n",
    "plt.plot(mean_klucbs / t, label='kl_ucb')\n",
    "plt.legend()"
   ]
  },
  {
   "cell_type": "code",
   "execution_count": null,
   "id": "0f8f40c8",
   "metadata": {},
   "outputs": [],
   "source": []
  }
 ],
 "metadata": {
  "kernelspec": {
   "display_name": "alibi",
   "language": "python",
   "name": "alibi"
  },
  "language_info": {
   "codemirror_mode": {
    "name": "ipython",
    "version": 3
   },
   "file_extension": ".py",
   "mimetype": "text/x-python",
   "name": "python",
   "nbconvert_exporter": "python",
   "pygments_lexer": "ipython3",
   "version": "3.8.13"
  }
 },
 "nbformat": 4,
 "nbformat_minor": 5
}
