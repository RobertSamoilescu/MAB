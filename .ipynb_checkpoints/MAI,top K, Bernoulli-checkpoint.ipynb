{
 "cells": [
  {
   "cell_type": "code",
   "execution_count": 6,
   "id": "4fa62a66",
   "metadata": {},
   "outputs": [
    {
     "name": "stdout",
     "output_type": "stream",
     "text": [
      "The autoreload extension is already loaded. To reload it, use:\n",
      "  %reload_ext autoreload\n"
     ]
    }
   ],
   "source": [
    "import numpy as np\n",
    "from tqdm import tqdm\n",
    "\n",
    "from src.mai.topk.direct import Direct\n",
    "from src.mai.topk.incremental import Incremental\n",
    "from src.mai.topk.halving import Halving\n",
    "\n",
    "from src.distributions import Bernoulli\n",
    "\n",
    "%load_ext autoreload\n",
    "%autoreload 2"
   ]
  },
  {
   "cell_type": "code",
   "execution_count": 2,
   "id": "10c878c2",
   "metadata": {},
   "outputs": [
    {
     "name": "stdout",
     "output_type": "stream",
     "text": [
      "Indices: [2 3 7 8]\n",
      "Means: [0.86466472 0.6033936  0.7661723  0.96447439]\n"
     ]
    }
   ],
   "source": [
    "n = 100 # number of arms\n",
    "m = 4  # top k arms\n",
    "\n",
    "eps = 0.1\n",
    "delta = 0.15\n",
    "\n",
    "\n",
    "means = np.random.random(n)\n",
    "arms = [Bernoulli(p) for p in means]\n",
    "\n",
    "indices = np.sort(np.argpartition(means, -m)[-m:])\n",
    "print('Indices:', indices)\n",
    "print('Means:', means[indices])"
   ]
  },
  {
   "cell_type": "code",
   "execution_count": 3,
   "id": "42a9636c",
   "metadata": {},
   "outputs": [],
   "source": [
    "def test_calibration(algo):\n",
    "    p_m = np.sort(means)[-m]\n",
    "    results = []\n",
    "    \n",
    "    for i in tqdm(range(10)):\n",
    "        ret_indices = algo.play()\n",
    "        results.append(np.all(means[ret_indices] > p_m - eps))\n",
    "        \n",
    "    return np.mean(results)"
   ]
  },
  {
   "cell_type": "code",
   "execution_count": 4,
   "id": "4217cbbc",
   "metadata": {},
   "outputs": [
    {
     "name": "stderr",
     "output_type": "stream",
     "text": [
      "100%|██████████| 10/10 [00:00<00:00, 126.66it/s]\n"
     ]
    },
    {
     "data": {
      "text/plain": [
       "1.0"
      ]
     },
     "execution_count": 4,
     "metadata": {},
     "output_type": "execute_result"
    }
   ],
   "source": [
    "direct = Direct(arms=arms, m=m, eps=eps, delta=delta)\n",
    "test_calibration(direct)"
   ]
  },
  {
   "cell_type": "code",
   "execution_count": 5,
   "id": "ba4d1657",
   "metadata": {},
   "outputs": [
    {
     "name": "stderr",
     "output_type": "stream",
     "text": [
      "100%|██████████| 10/10 [00:29<00:00,  2.93s/it]\n"
     ]
    },
    {
     "data": {
      "text/plain": [
       "1.0"
      ]
     },
     "execution_count": 5,
     "metadata": {},
     "output_type": "execute_result"
    }
   ],
   "source": [
    "if False:\n",
    "    incremental = Incremental(arms=arms, m=m, eps=eps, delta=delta)\n",
    "    test_calibration(incremental)"
   ]
  },
  {
   "cell_type": "code",
   "execution_count": 14,
   "id": "c8167eb1",
   "metadata": {},
   "outputs": [
    {
     "name": "stderr",
     "output_type": "stream",
     "text": [
      "100%|██████████| 10/10 [00:00<00:00, 79.53it/s]\n"
     ]
    },
    {
     "data": {
      "text/plain": [
       "1.0"
      ]
     },
     "execution_count": 14,
     "metadata": {},
     "output_type": "execute_result"
    }
   ],
   "source": [
    "halving = Halving(arms=arms, m=m, eps=eps, delta=delta)\n",
    "test_calibration(halving)"
   ]
  },
  {
   "cell_type": "code",
   "execution_count": null,
   "id": "93111c6d",
   "metadata": {},
   "outputs": [],
   "source": []
  }
 ],
 "metadata": {
  "kernelspec": {
   "display_name": "alibi",
   "language": "python",
   "name": "alibi"
  },
  "language_info": {
   "codemirror_mode": {
    "name": "ipython",
    "version": 3
   },
   "file_extension": ".py",
   "mimetype": "text/x-python",
   "name": "python",
   "nbconvert_exporter": "python",
   "pygments_lexer": "ipython3",
   "version": "3.8.13"
  }
 },
 "nbformat": 4,
 "nbformat_minor": 5
}
