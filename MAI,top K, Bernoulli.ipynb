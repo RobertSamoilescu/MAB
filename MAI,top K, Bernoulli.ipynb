{
 "cells": [
  {
   "cell_type": "code",
   "execution_count": 6,
   "id": "f0660395",
   "metadata": {},
   "outputs": [
    {
     "name": "stdout",
     "output_type": "stream",
     "text": [
      "The autoreload extension is already loaded. To reload it, use:\n",
      "  %reload_ext autoreload\n"
     ]
    }
   ],
   "source": [
    "import numpy as np\n",
    "from tqdm import tqdm\n",
    "\n",
    "from src.mai.topk.direct import Direct\n",
    "from src.mai.topk.incremental import Incremental\n",
    "from src.mai.topk.halving import Halving\n",
    "\n",
    "from src.distributions import Bernoulli\n",
    "\n",
    "%load_ext autoreload\n",
    "%autoreload 2"
   ]
  },
  {
   "cell_type": "code",
   "execution_count": 20,
   "id": "718a216e",
   "metadata": {},
   "outputs": [
    {
     "name": "stdout",
     "output_type": "stream",
     "text": [
      "Indices: [10 11 12 21 25 32 36 38 52 56 57 59 60 62 63 64 68 73 77 88]\n",
      "Means: [0.93873343 0.83014034 0.98906269 0.87520556 0.95207886 0.8410226\n",
      " 0.97074349 0.89489901 0.94153435 0.92454922 0.92760589 0.78445082\n",
      " 0.97625766 0.80440135 0.96327667 0.83297958 0.77856082 0.8607835\n",
      " 0.94692824 0.85184036]\n"
     ]
    }
   ],
   "source": [
    "n = 100 # number of arms\n",
    "m = 20  # top k arms\n",
    "\n",
    "eps = 0.1\n",
    "delta = 0.15\n",
    "\n",
    "\n",
    "means = np.random.random(n)\n",
    "arms = [Bernoulli(p) for p in means]\n",
    "\n",
    "indices = np.sort(np.argpartition(means, -m)[-m:])\n",
    "print('Indices:', indices)\n",
    "print('Means:', means[indices])"
   ]
  },
  {
   "cell_type": "code",
   "execution_count": 21,
   "id": "5c0be342",
   "metadata": {},
   "outputs": [],
   "source": [
    "def test_calibration(algo):\n",
    "    p_m = np.sort(means)[-m]\n",
    "    results = []\n",
    "    \n",
    "    for i in tqdm(range(10)):\n",
    "        ret_indices = algo.play()\n",
    "        results.append(np.all(means[ret_indices] > p_m - eps))\n",
    "        \n",
    "    return np.mean(results)"
   ]
  },
  {
   "cell_type": "code",
   "execution_count": 22,
   "id": "66d1d1de",
   "metadata": {},
   "outputs": [
    {
     "name": "stderr",
     "output_type": "stream",
     "text": [
      "100%|██████████| 10/10 [00:00<00:00, 11.99it/s]\n"
     ]
    },
    {
     "data": {
      "text/plain": [
       "1.0"
      ]
     },
     "execution_count": 22,
     "metadata": {},
     "output_type": "execute_result"
    }
   ],
   "source": [
    "direct = Direct(arms=arms, m=m, eps=eps, delta=delta)\n",
    "test_calibration(direct)"
   ]
  },
  {
   "cell_type": "code",
   "execution_count": 23,
   "id": "9d2bbe02",
   "metadata": {},
   "outputs": [],
   "source": [
    "if False:\n",
    "    incremental = Incremental(arms=arms, m=m, eps=eps, delta=delta)\n",
    "    test_calibration(incremental)"
   ]
  },
  {
   "cell_type": "code",
   "execution_count": 24,
   "id": "0e669b0e",
   "metadata": {},
   "outputs": [
    {
     "name": "stderr",
     "output_type": "stream",
     "text": [
      "100%|██████████| 10/10 [00:01<00:00,  5.77it/s]\n"
     ]
    },
    {
     "data": {
      "text/plain": [
       "1.0"
      ]
     },
     "execution_count": 24,
     "metadata": {},
     "output_type": "execute_result"
    }
   ],
   "source": [
    "halving = Halving(arms=arms, m=m, eps=eps, delta=delta)\n",
    "test_calibration(halving)"
   ]
  },
  {
   "cell_type": "code",
   "execution_count": null,
   "id": "75c4ee63",
   "metadata": {},
   "outputs": [],
   "source": []
  }
 ],
 "metadata": {
  "kernelspec": {
   "display_name": "alibi",
   "language": "python",
   "name": "alibi"
  },
  "language_info": {
   "codemirror_mode": {
    "name": "ipython",
    "version": 3
   },
   "file_extension": ".py",
   "mimetype": "text/x-python",
   "name": "python",
   "nbconvert_exporter": "python",
   "pygments_lexer": "ipython3",
   "version": "3.8.13"
  }
 },
 "nbformat": 4,
 "nbformat_minor": 5
}
