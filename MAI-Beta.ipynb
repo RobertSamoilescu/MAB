{
 "cells": [
  {
   "cell_type": "code",
   "execution_count": 1,
   "id": "0eb368e2",
   "metadata": {},
   "outputs": [],
   "source": [
    "import numpy as np\n",
    "from tqdm import tqdm\n",
    "\n",
    "from src.distributions import Beta\n",
    "from src.mai.top1.naive import Naive\n",
    "from src.mai.top1.succesive_elimination import SuccesiveElimination\n",
    "from src.mai.top1.median_elimination import MedianElimination\n",
    "\n",
    "%load_ext autoreload\n",
    "%autoreload 2"
   ]
  },
  {
   "cell_type": "code",
   "execution_count": 2,
   "id": "271afc71",
   "metadata": {},
   "outputs": [],
   "source": [
    "means = np.array([3/7,  3.05/7.05])\n",
    "\n",
    "arms = [\n",
    "    Beta(3, 4),\n",
    "    Beta(3.05, 4)\n",
    "]\n",
    "\n",
    "\n",
    "eps = 0.1\n",
    "delta = 0.15"
   ]
  },
  {
   "cell_type": "code",
   "execution_count": 3,
   "id": "28f0022e",
   "metadata": {},
   "outputs": [],
   "source": [
    "def test_calibration(alg):\n",
    "    best_arm = np.argmax(means).astype(np.int32)\n",
    "    returned_arm = []\n",
    "    \n",
    "    for i in tqdm(range(100)):\n",
    "        returned_arm.append(alg.play())\n",
    "    \n",
    "    returned_arm = np.array(returned_arm, dtype=np.int32)\n",
    "    return np.mean(means[returned_arm] > means[best_arm] - eps), returned_arm"
   ]
  },
  {
   "cell_type": "code",
   "execution_count": 4,
   "id": "59dccbb5",
   "metadata": {},
   "outputs": [
    {
     "name": "stderr",
     "output_type": "stream",
     "text": [
      "100%|██████████| 100/100 [00:00<00:00, 291.88it/s]"
     ]
    },
    {
     "name": "stdout",
     "output_type": "stream",
     "text": [
      "1.0\n"
     ]
    },
    {
     "name": "stderr",
     "output_type": "stream",
     "text": [
      "\n"
     ]
    }
   ],
   "source": [
    "# test naive algorithm\n",
    "naive = Naive(arms=arms, eps=eps, delta=delta)\n",
    "mean, returned_arm = test_calibration(naive)\n",
    "print(mean)"
   ]
  },
  {
   "cell_type": "code",
   "execution_count": 5,
   "id": "9aa5ea4b",
   "metadata": {},
   "outputs": [
    {
     "name": "stderr",
     "output_type": "stream",
     "text": [
      "100%|██████████| 100/100 [00:01<00:00, 64.03it/s]"
     ]
    },
    {
     "name": "stdout",
     "output_type": "stream",
     "text": [
      "1.0\n"
     ]
    },
    {
     "name": "stderr",
     "output_type": "stream",
     "text": [
      "\n"
     ]
    }
   ],
   "source": [
    "succesive = SuccesiveElimination(arms=arms, eps=eps, delta=delta, c=4)\n",
    "mean, returned_arm = test_calibration(succesive)\n",
    "print(mean)"
   ]
  },
  {
   "cell_type": "code",
   "execution_count": 6,
   "id": "f698866f",
   "metadata": {},
   "outputs": [
    {
     "name": "stderr",
     "output_type": "stream",
     "text": [
      "100%|██████████| 100/100 [00:05<00:00, 17.43it/s]"
     ]
    },
    {
     "name": "stdout",
     "output_type": "stream",
     "text": [
      "1.0\n"
     ]
    },
    {
     "name": "stderr",
     "output_type": "stream",
     "text": [
      "\n"
     ]
    }
   ],
   "source": [
    "median = MedianElimination(arms=arms, eps=eps, delta=delta)\n",
    "mean, returned_arm = test_calibration(median)\n",
    "print(mean)"
   ]
  },
  {
   "cell_type": "code",
   "execution_count": null,
   "id": "4503f2da",
   "metadata": {},
   "outputs": [],
   "source": []
  }
 ],
 "metadata": {
  "kernelspec": {
   "display_name": "alibi",
   "language": "python",
   "name": "alibi"
  },
  "language_info": {
   "codemirror_mode": {
    "name": "ipython",
    "version": 3
   },
   "file_extension": ".py",
   "mimetype": "text/x-python",
   "name": "python",
   "nbconvert_exporter": "python",
   "pygments_lexer": "ipython3",
   "version": "3.8.13"
  }
 },
 "nbformat": 4,
 "nbformat_minor": 5
}
