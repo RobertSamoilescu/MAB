{
 "cells": [
  {
   "cell_type": "code",
   "execution_count": 1,
   "id": "c91adddb",
   "metadata": {},
   "outputs": [],
   "source": [
    "import numpy as np\n",
    "from sklearn.tree import DecisionTreeClassifier\n",
    "from sklearn.datasets import make_classification\n",
    "from sklearn.model_selection import train_test_split\n",
    "\n",
    "\n",
    "import shap\n",
    "from alibi.explainers import KernelShap\n",
    "from alibi.datasets import fetch_adult\n",
    "\n",
    "from src.mai.topk.direct import Direct\n",
    "from src.mai.topk.halving import Halving\n",
    "from src.mai.topk.lucb import LUCB\n",
    "from src.distributions import Shap\n",
    "\n",
    "\n",
    "%load_ext autoreload\n",
    "%autoreload 2"
   ]
  },
  {
   "cell_type": "markdown",
   "id": "d31eb5d6",
   "metadata": {},
   "source": [
    "## Constants"
   ]
  },
  {
   "cell_type": "code",
   "execution_count": 31,
   "id": "32b7cdd8",
   "metadata": {},
   "outputs": [],
   "source": [
    "m = 5\n",
    "eps = 0.05\n",
    "delta = 0.1"
   ]
  },
  {
   "cell_type": "markdown",
   "id": "88a00c05",
   "metadata": {},
   "source": [
    "## Dataset"
   ]
  },
  {
   "cell_type": "code",
   "execution_count": 35,
   "id": "359292c9",
   "metadata": {},
   "outputs": [],
   "source": [
    "if True:\n",
    "    n_samples = 10000\n",
    "    n_features = 150\n",
    "    n_informative = 100\n",
    "    n_redundant = 50\n",
    "    n_clusters_per_class=10\n",
    "    n_classes = 2\n",
    "    \n",
    "    X, y = make_classification(n_samples=n_samples, \n",
    "                               n_features=n_features, \n",
    "                               n_informative=n_informative, \n",
    "                               n_redundant=n_redundant,\n",
    "                               n_classes=n_classes,\n",
    "                               hypercube=False,\n",
    "                               n_clusters_per_class=n_clusters_per_class)\n",
    "    X_train, X_test, y_train, y_test = train_test_split(X, y, test_size=0.2)\n",
    "else:\n",
    "    # adult census dataset\n",
    "    data = fetch_adult()\n",
    "    X, y = data['data'], data['target']\n",
    "    X_train, X_test, y_train, y_test = train_test_split(X, y, test_size=0.2)\n",
    "    n_features = X.shape[-1]"
   ]
  },
  {
   "cell_type": "markdown",
   "id": "531a95a0",
   "metadata": {},
   "source": [
    "## Train model"
   ]
  },
  {
   "cell_type": "code",
   "execution_count": 36,
   "id": "abf2dd35",
   "metadata": {},
   "outputs": [
    {
     "data": {
      "text/plain": [
       "(1.0, 0.541)"
      ]
     },
     "execution_count": 36,
     "metadata": {},
     "output_type": "execute_result"
    }
   ],
   "source": [
    "clf = DecisionTreeClassifier()\n",
    "clf.fit(X_train, y_train)\n",
    "clf.score(X_train, y_train), clf.score(X_test, y_test)"
   ]
  },
  {
   "cell_type": "code",
   "execution_count": 37,
   "id": "193cf0d3",
   "metadata": {},
   "outputs": [
    {
     "data": {
      "text/plain": [
       "(0, 1)"
      ]
     },
     "execution_count": 37,
     "metadata": {},
     "output_type": "execute_result"
    }
   ],
   "source": [
    "max_val = np.max(clf.predict(X_train))\n",
    "min_val = np.min(clf.predict(X_train))\n",
    "min_val, max_val"
   ]
  },
  {
   "cell_type": "markdown",
   "id": "0f567a93",
   "metadata": {},
   "source": [
    "## Explain prediction"
   ]
  },
  {
   "cell_type": "code",
   "execution_count": 38,
   "id": "1a5f6b4f",
   "metadata": {},
   "outputs": [],
   "source": [
    "X = X_test[:1]\n",
    "baseline = X_train[:10]"
   ]
  },
  {
   "cell_type": "markdown",
   "id": "5b33d993",
   "metadata": {},
   "source": [
    "### KernelShap"
   ]
  },
  {
   "cell_type": "code",
   "execution_count": 39,
   "id": "d97c6359",
   "metadata": {},
   "outputs": [],
   "source": [
    "def predict_fn(x):\n",
    "    y = np.clip(clf.predict_proba(x), 0.01, 0.99)\n",
    "    return y / np.sum(y, axis=-1, keepdims=True)\n",
    "\n",
    "explainer = KernelShap(predictor=predict_fn,\n",
    "                       link='identity',\n",
    "                       task='classification')\n",
    "\n",
    "explainer = explainer.fit(baseline)"
   ]
  },
  {
   "cell_type": "code",
   "execution_count": 40,
   "id": "9fed91e0",
   "metadata": {},
   "outputs": [
    {
     "data": {
      "application/vnd.jupyter.widget-view+json": {
       "model_id": "a500c23de3ba46179b43d9cdacdac1d2",
       "version_major": 2,
       "version_minor": 0
      },
      "text/plain": [
       "  0%|          | 0/1 [00:00<?, ?it/s]"
      ]
     },
     "metadata": {},
     "output_type": "display_data"
    },
    {
     "name": "stdout",
     "output_type": "stream",
     "text": [
      "#samples: 2^5; indices=[ 22  50 128 138 149]\n"
     ]
    },
    {
     "name": "stderr",
     "output_type": "stream",
     "text": [
      "Linear regression equation is singular, Moore-Penrose pseudoinverse is used instead of the regular inverse.\n",
      "To use regular inverse do one of the following:\n",
      "1) turn up the number of samples,\n",
      "2) turn up the L1 regularization with num_features(N) where N is less than the number of samples,\n",
      "3) group features together to reduce the number of inputs that need to be explained.\n"
     ]
    },
    {
     "data": {
      "application/vnd.jupyter.widget-view+json": {
       "model_id": "edc93b85395e4e5aa5cfde2bc8a59f85",
       "version_major": 2,
       "version_minor": 0
      },
      "text/plain": [
       "  0%|          | 0/1 [00:00<?, ?it/s]"
      ]
     },
     "metadata": {},
     "output_type": "display_data"
    },
    {
     "name": "stdout",
     "output_type": "stream",
     "text": [
      "#samples: 2^10; indices=[  1  60  92 142 144]\n"
     ]
    },
    {
     "data": {
      "application/vnd.jupyter.widget-view+json": {
       "model_id": "49a0c6cb87b14e8fbdabcbb1a947ff67",
       "version_major": 2,
       "version_minor": 0
      },
      "text/plain": [
       "  0%|          | 0/1 [00:00<?, ?it/s]"
      ]
     },
     "metadata": {},
     "output_type": "display_data"
    },
    {
     "name": "stdout",
     "output_type": "stream",
     "text": [
      "#samples: 2^12; indices=[ 21  60  92 142 144]\n"
     ]
    },
    {
     "data": {
      "application/vnd.jupyter.widget-view+json": {
       "model_id": "c135e5bdbc6d4b29b19a7e22ebecb9d9",
       "version_major": 2,
       "version_minor": 0
      },
      "text/plain": [
       "  0%|          | 0/1 [00:00<?, ?it/s]"
      ]
     },
     "metadata": {},
     "output_type": "display_data"
    },
    {
     "name": "stdout",
     "output_type": "stream",
     "text": [
      "#samples: 2^14; indices=[ 60  89  92 142 144]\n"
     ]
    },
    {
     "data": {
      "application/vnd.jupyter.widget-view+json": {
       "model_id": "19b19b16f2db4c458a8c089027aac8b4",
       "version_major": 2,
       "version_minor": 0
      },
      "text/plain": [
       "  0%|          | 0/1 [00:00<?, ?it/s]"
      ]
     },
     "metadata": {},
     "output_type": "display_data"
    },
    {
     "name": "stdout",
     "output_type": "stream",
     "text": [
      "#samples: 2^16; indices=[ 21  60  89  92 144]\n"
     ]
    }
   ],
   "source": [
    "for i in [5, 10, 12, 14, 16]:\n",
    "    exp = explainer.explain(X=X,\n",
    "                            nsamples=2**i,\n",
    "                            l1_reg=False)\n",
    "\n",
    "    indices = np.argsort(exp.shap_values[0][0])[-m:]\n",
    "    vals = exp.shap_values[0][0][indices]\n",
    "    print(f'#samples: 2^{i}; indices={np.sort(indices)}')"
   ]
  },
  {
   "cell_type": "markdown",
   "id": "38f3017b",
   "metadata": {},
   "source": [
    "### MAI"
   ]
  },
  {
   "cell_type": "code",
   "execution_count": 41,
   "id": "385f3a5d",
   "metadata": {},
   "outputs": [],
   "source": [
    "simple_predict_fn = lambda x: predict_fn(x)[:, 0]\n",
    "\n",
    "arms = [Shap(feature=i,\n",
    "             X=X,\n",
    "             baseline=baseline,\n",
    "             predictor=simple_predict_fn,\n",
    "             min_val=min_val,\n",
    "             max_val=max_val) for i in range(n_features)]"
   ]
  },
  {
   "cell_type": "code",
   "execution_count": null,
   "id": "9f978644",
   "metadata": {
    "scrolled": true
   },
   "outputs": [
    {
     "name": "stderr",
     "output_type": "stream",
     "text": [
      "\r",
      "  0%|          | 0/150 [00:00<?, ?it/s]"
     ]
    }
   ],
   "source": [
    "algo = Direct(arms=arms, m=m, eps=eps, delta=delta)\n",
    "ret_indices = algo.play()\n",
    "np.sort(ret_indices)"
   ]
  },
  {
   "cell_type": "code",
   "execution_count": 33,
   "id": "de1c29d0",
   "metadata": {},
   "outputs": [
    {
     "name": "stderr",
     "output_type": "stream",
     "text": [
      "100%|██████████| 2/2 [00:01<00:00,  1.16it/s]\n"
     ]
    },
    {
     "data": {
      "text/plain": [
       "array([ 0,  3,  8, 10, 11])"
      ]
     },
     "execution_count": 33,
     "metadata": {},
     "output_type": "execute_result"
    }
   ],
   "source": [
    "algo = Halving(arms=arms, m=m, eps=eps, delta=delta)\n",
    "ret_indices = algo.play()\n",
    "np.sort(ret_indices)"
   ]
  },
  {
   "cell_type": "code",
   "execution_count": 34,
   "id": "f452c523",
   "metadata": {},
   "outputs": [
    {
     "name": "stderr",
     "output_type": "stream",
     "text": [
      "40it [00:01, 22.90it/s]\n"
     ]
    },
    {
     "data": {
      "text/plain": [
       "array([ 0,  3,  8, 10, 11])"
      ]
     },
     "execution_count": 34,
     "metadata": {},
     "output_type": "execute_result"
    }
   ],
   "source": [
    "algo = LUCB(arms=arms, m=m, eps=eps, delta=delta, batch_size=1000)\n",
    "ret_indices = algo.play()\n",
    "np.sort(ret_indices)"
   ]
  },
  {
   "cell_type": "code",
   "execution_count": null,
   "id": "cbb3a2fd",
   "metadata": {},
   "outputs": [],
   "source": []
  }
 ],
 "metadata": {
  "kernelspec": {
   "display_name": "alibi",
   "language": "python",
   "name": "alibi"
  },
  "language_info": {
   "codemirror_mode": {
    "name": "ipython",
    "version": 3
   },
   "file_extension": ".py",
   "mimetype": "text/x-python",
   "name": "python",
   "nbconvert_exporter": "python",
   "pygments_lexer": "ipython3",
   "version": "3.8.13"
  }
 },
 "nbformat": 4,
 "nbformat_minor": 5
}
